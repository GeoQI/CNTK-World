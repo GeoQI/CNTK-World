{
 "cells": [
  {
   "cell_type": "markdown",
   "metadata": {},
   "source": [
    "<h1>Generative Adversarial Network (GAN)</h1>\n",
    "\n",
    "[base paper](https://arxiv.org/pdf/1406.2661v1.pdf)\n",
    "<br>\n",
    "This code is similar to [CNTK DCGAN tutorial](https://github.com/Microsoft/CNTK/blob/master/Tutorials/CNTK_206B_DCGAN.ipynb)\n",
    "except that here a conditional input, dictates the generator what to generate.\n",
    "<br>\n",
    "More descriptive blog post about GANs: https://blog.openai.com/generative-models\n",
    "\n",
    "<h2>Import libraries</h2>"
   ]
  },
  {
   "cell_type": "code",
   "execution_count": 1,
   "metadata": {
    "collapsed": false
   },
   "outputs": [],
   "source": [
    "import os\n",
    "import time\n",
    "import numpy as np\n",
    "import cv2\n",
    "from sklearn.datasets import fetch_mldata\n",
    "from sklearn.preprocessing import OneHotEncoder\n",
    "import shutil\n",
    "import cntk as C"
   ]
  },
  {
   "cell_type": "markdown",
   "metadata": {},
   "source": [
    "<h2>parameters and constants</h2>"
   ]
  },
  {
   "cell_type": "code",
   "execution_count": 2,
   "metadata": {
    "collapsed": true
   },
   "outputs": [],
   "source": [
    "train_set_len = 70000\n",
    "num_class = 10\n",
    "g_input_dim_noise = 100\n",
    "g_hidden_dim = 1024\n",
    "g_output_dim = 784\n",
    "d_input_dim = 784\n",
    "d_hidden_dim = 1024\n",
    "d_output_dim = 1\n",
    "max_epoch = 3000\n",
    "img_h = img_w = 28\n",
    "gstride = dstride = 2\n",
    "gkernel = dkernel = 5"
   ]
  },
  {
   "cell_type": "markdown",
   "metadata": {},
   "source": [
    "<h2>load MNIST data</h2>"
   ]
  },
  {
   "cell_type": "code",
   "execution_count": 3,
   "metadata": {
    "collapsed": true
   },
   "outputs": [],
   "source": [
    "mnist = fetch_mldata('MNIST original')\n",
    "real_img = np.array(mnist.data / 127.5 - 1., dtype=np.float32)\n",
    "enc = OneHotEncoder(dtype=np.float32)\n",
    "enc.fit(mnist.target[:, None])\n",
    "real_code = enc.transform(mnist.target[:, None])"
   ]
  },
  {
   "cell_type": "markdown",
   "metadata": {},
   "source": [
    "<h2>some helper functions</h2>"
   ]
  },
  {
   "cell_type": "code",
   "execution_count": 4,
   "metadata": {
    "collapsed": false
   },
   "outputs": [],
   "source": [
    "def G_sampler(G_model, batch_size, normal=True):\n",
    "    '''\n",
    "    get samples from Generator network\n",
    "\n",
    "    Args:\n",
    "        G_model: Generative model which produces samples\n",
    "        batch_size: number of images sampled from G_model\n",
    "        normal: whether use normal distribution or unofrom as random state\n",
    "\n",
    "    Returns:\n",
    "        z: random state used as Generator input\n",
    "        fake_images: images sampled from Generator\n",
    "        digit_code: conditional code which is fed to Generator\n",
    "    '''\n",
    "    digit_code = enc.transform(np.random.randint(0, num_class, batch_size)[:, None])\n",
    "    if normal:\n",
    "        mu, sigma = 0, 0.33\n",
    "        z = np.random.normal(mu, sigma, (batch_size, g_input_dim_noise))\n",
    "    else:\n",
    "        z = 2.0 * np.random.random((batch_size, g_input_dim_noise)) - 1.0\n",
    "\n",
    "    fake_images = G_model.eval({G_model.find_by_name('G_feature_z'): z,\n",
    "                                G_model.find_by_name('G_feature_code'): digit_code},\n",
    "                               outputs=G_model.find_by_name('G_out'))\n",
    "\n",
    "    return z, fake_images, digit_code\n",
    "\n",
    "\n",
    "def visualize(epoch, batch_size=256, save_model=False):\n",
    "    '''\n",
    "    get samples from G network and save it to samples directory (exception will be occurred if samples directory not exists)\n",
    "\n",
    "    Args:\n",
    "        epoch: epoch number which we are currently at\n",
    "        batch_size: number of images sampled from G\n",
    "        save_model: whether save G and D model or not\n",
    "    '''\n",
    "    global G_net, D_real, G_tensorboard_writer\n",
    "\n",
    "    # check if folder exist\n",
    "    if not os.path.isdir('samples'):\n",
    "        os.mkdir('samples')\n",
    "    p = 'samples/epoch{:05d}'.format(epoch)\n",
    "    if os.path.isdir(p):\n",
    "        shutil.rmtree(p)\n",
    "    os.mkdir(p)\n",
    "    _, samples, codes = G_sampler(G_net, batch_size)\n",
    "    for ind, i in enumerate(zip(samples, codes.toarray())):\n",
    "        code = np.argmax(i[1])\n",
    "        img = (i[0] + 1) * 127\n",
    "        img = img.reshape((28, 28))\n",
    "        cv2.imwrite('samples/epoch{:05d}/epoch{:05d}_ind{:03d}_code{}.jpg'.format(epoch, epoch, ind, code), img)\n",
    "\n",
    "    if save_model:\n",
    "        G_net.save(os.path.join(cwd, 'samples', 'epoch{:05d}', 'G_{:05d}.cntk').format(epoch, epoch))\n",
    "        D_real.save_checkpoint(os.path.join(cwd, 'samples', 'epoch{:05d}', 'D_{:05d}.cntk').format(epoch, epoch))\n",
    "\n",
    "\n",
    "def create_mb_for_D(mb_size):\n",
    "    '''\n",
    "    data generator to train Detector network\n",
    "\n",
    "    Args:\n",
    "        mb_size: number of samples of minibatch\n",
    "\n",
    "    Returns:\n",
    "        real_image, real_code, z (random state) and fake_code all have the same size determined by mb_size\n",
    "    '''\n",
    "    global real_img, real_code\n",
    "\n",
    "    counter = 0\n",
    "    while True:\n",
    "        # create fake batch\n",
    "        z, fake_img, fake_code = G_sampler(G_net, mb_size)\n",
    "\n",
    "        # create real batch\n",
    "        if counter + mb_size < train_set_len:\n",
    "            yield real_img[counter:counter + mb_size].reshape((mb_size, 1, img_h, img_w)), real_code[counter:counter + mb_size], z, fake_code\n",
    "            counter += mb_size\n",
    "        else:\n",
    "            # shuffle\n",
    "            p = np.random.permutation(real_code.shape[0])\n",
    "            real_img, real_code = real_img[p], real_code[p]\n",
    "            counter = 0\n",
    "            yield real_img[counter:counter + mb_size].reshape((mb_size, 1, img_h, img_w)), real_code[counter:counter + mb_size], z, fake_code\n",
    "\n",
    "\n",
    "def create_mb_for_G(mb_size):\n",
    "    '''\n",
    "    data generator to train Generator network\n",
    "\n",
    "    Args:\n",
    "        mb_size: number of samples of minibatch\n",
    "\n",
    "    Returns:\n",
    "        random state and conditional code with the same size of mb_size\n",
    "    '''\n",
    "    while True:\n",
    "        z, _, code = G_sampler(G_net, mb_size)\n",
    "        yield z, code"
   ]
  },
  {
   "cell_type": "markdown",
   "metadata": {},
   "source": [
    "<h2>define D and G networks</h2>"
   ]
  },
  {
   "cell_type": "code",
   "execution_count": 5,
   "metadata": {
    "collapsed": true
   },
   "outputs": [],
   "source": [
    "def D(x_img, x_code):\n",
    "    '''\n",
    "    Detector network architecture\n",
    "\n",
    "    Args:\n",
    "        x_img: cntk.input_variable represent images to network\n",
    "        x_code: cntk.input_variable represent conditional code to network\n",
    "    '''\n",
    "    def bn_with_leaky_relu(x, leak=0.2):\n",
    "        h = C.layers.BatchNormalization(map_rank=1)(x)\n",
    "        r = C.param_relu(C.constant((np.ones(h.shape) * leak).astype(np.float32)), h)\n",
    "        return r\n",
    "\n",
    "    with C.layers.default_options(init=C.normal(scale=0.02)):\n",
    "\n",
    "        h0 = C.layers.Convolution2D(dkernel, 1, strides=dstride)(x_img)\n",
    "        h0 = bn_with_leaky_relu(h0, leak=0.2)\n",
    "        print('h0 shape :', h0.shape)\n",
    "\n",
    "        h1 = C.layers.Convolution2D(dkernel, 64, strides=dstride)(h0)\n",
    "        h1 = bn_with_leaky_relu(h1, leak=0.2)\n",
    "        print('h1 shape :', h1.shape)\n",
    "\n",
    "        h2 = C.layers.Dense(256, activation=None)(h1)\n",
    "        h2 = bn_with_leaky_relu(h2, leak=0.2)\n",
    "        print('h2 shape :', h2.shape)\n",
    "\n",
    "        h2_aug = C.splice(h2, x_code)\n",
    "\n",
    "        h3 = C.layers.Dense(256, activation=C.relu)(h2_aug)\n",
    "\n",
    "        h4 = C.layers.Dense(1, activation=C.sigmoid, name='D_out')(h3)\n",
    "        print('h3 shape :', h4.shape)\n",
    "\n",
    "        return h4\n",
    "\n",
    "\n",
    "def G(z, code):\n",
    "    '''\n",
    "    Generator network architecture\n",
    "\n",
    "    Args:\n",
    "        z: random state\n",
    "        code: conditional code which the fake images will be generated wrt it\n",
    "    '''\n",
    "    def bn_with_relu(x, activation=C.relu, name='BN'):\n",
    "        h = C.layers.BatchNormalization(map_rank=1, name=name)(x)\n",
    "        return C.relu(h, name=name + '_relu')\n",
    "\n",
    "    i = C.ops.splice(z, code, name='G_splice')\n",
    "    with C.layers.default_options(init=C.normal(scale=0.06)):\n",
    "        print('Generator input shape: ', z.shape)\n",
    "\n",
    "        s_h1, s_w1 = 32, 32\n",
    "        s_h2, s_w2 = 16, 16\n",
    "        s_h4, s_w4 = 8, 8\n",
    "        s_h8, s_w8 = 4, 4\n",
    "        gfc_dim = 128\n",
    "\n",
    "        h0 = C.layers.Dense(gfc_dim, activation=C.ops.tanh, init=C.glorot_normal(scale=1.0), name='fc1')(i)\n",
    "        print('h0 shape', h0.shape)\n",
    "\n",
    "        h1 = C.layers.Dense(gfc_dim, activation=C.ops.tanh, init=C.glorot_normal(scale=1.0), name='fc2')(h0)\n",
    "        print('h1 shape', h0.shape)\n",
    "\n",
    "        h2 = C.layers.Dense([128, s_h8, s_w8], activation=None, name='fc_tensor')(h1)\n",
    "        h2 = bn_with_relu(h2, name='BN1')\n",
    "        print('h2 shape', h2.shape)\n",
    "\n",
    "        h3 = C.layers.ConvolutionTranspose2D(gkernel,\n",
    "                                  num_filters=128,\n",
    "                                  strides=gstride,\n",
    "                                  pad=True,\n",
    "                                  output_shape=(s_h4, s_w4),\n",
    "                                  activation=None,\n",
    "                                  name='transposed_conv1')(h2)\n",
    "        h3 = bn_with_relu(h3, name='BN2')\n",
    "        print('h3 shape', h3.shape)\n",
    "\n",
    "        h4 = C.layers.ConvolutionTranspose2D(gkernel,\n",
    "                                  num_filters=64,\n",
    "                                  strides=gstride,\n",
    "                                  pad=True,\n",
    "                                  output_shape=(s_h2, s_w2),\n",
    "                                  activation=None,\n",
    "                                  name='transposed_conv2')(h3)\n",
    "        print('h4 shape', h4.shape)\n",
    "\n",
    "        h5 = C.layers.ConvolutionTranspose2D(gkernel,\n",
    "                                  num_filters=1,\n",
    "                                  strides=gstride,\n",
    "                                  pad=True,\n",
    "                                  output_shape=(s_h1, s_w1),\n",
    "                                  activation=C.tanh,\n",
    "                                  name='transposed_conv3')(h4)\n",
    "        print('h5 shape :', h5.shape)\n",
    "\n",
    "        # slice extra pixels\n",
    "        h5_w = C.ops.slice(h5, 2, (s_w1 - img_w) // 2, (s_w1 + img_w) // 2, name='cut_w')\n",
    "        h5_w_h = C.ops.slice(h5_w, 1, (s_h1 - img_h) // 2, (s_h1 + img_h) // 2, name='G_out')\n",
    "\n",
    "        return  h5_w_h"
   ]
  },
  {
   "cell_type": "markdown",
   "metadata": {},
   "source": [
    "<h2>define computational graph</h2>"
   ]
  },
  {
   "cell_type": "code",
   "execution_count": 6,
   "metadata": {
    "collapsed": false
   },
   "outputs": [
    {
     "name": "stdout",
     "output_type": "stream",
     "text": [
      "Generator input shape:  (100,)\n",
      "h0 shape (128,)\n",
      "h1 shape (128,)\n",
      "h2 shape (128, 4, 4)\n",
      "h3 shape (128, 8, 8)\n",
      "h4 shape (64, 16, 16)\n",
      "h5 shape : (1, 32, 32)\n",
      "h0 shape : (1, 12, 12)\n",
      "h1 shape : (64, 4, 4)\n",
      "h2 shape : (256,)\n",
      "h3 shape : (1,)\n"
     ]
    }
   ],
   "source": [
    "# input nudes\n",
    "G_feature_z = C.input_variable(g_input_dim_noise, name='G_feature_z')\n",
    "G_feature_code = C.input_variable(num_class, name='G_feature_code')\n",
    "D_feature_image = C.input_variable((1, 28, 28), name='D_feature_image')\n",
    "D_feature_code = C.input_variable(num_class, name='D_feature_code')\n",
    "\n",
    "# define networks\n",
    "G_net = G(G_feature_z, G_feature_code)\n",
    "D_real = D(D_feature_image, D_feature_code)\n",
    "D_fake = D_real.clone(method='share', substitutions={D_feature_image: G_net, D_feature_code: G_feature_code})\n",
    "\n",
    "# define loss\n",
    "G_loss = 1. - C.log(D_fake)\n",
    "D_loss = -(C.log(D_real) + C.log(1. - D_fake))\n",
    "\n",
    "# optimizers\n",
    "lr = C.learning_rate_schedule(.0002, C.UnitType.sample)\n",
    "mm = C.momentum_schedule(.5)\n",
    "G_learner = C.adam(parameters=G_net.parameters, lr=lr, momentum=mm)\n",
    "D_learner = C.adam(parameters=D_real.parameters, lr=lr, momentum=mm)\n",
    "\n",
    "# logging\n",
    "G_progress_printer = C.logging.ProgressPrinter(tag='G_training', num_epochs=max_epoch // 100)\n",
    "G_tensorboard_writer = C.logging.TensorBoardProgressWriter(freq=10, log_dir='log_G', model=G_net)\n",
    "D_progress_printer = C.logging.ProgressPrinter(tag='D_training', num_epochs=max_epoch // 100)\n",
    "D_tensorboard_writer = C.logging.TensorBoardProgressWriter(freq=10, log_dir='log_D', model=D_real)\n",
    "\n",
    "# trainer\n",
    "G_trainer = C.Trainer(G_net, (G_loss, None), G_learner, [G_progress_printer, G_tensorboard_writer])\n",
    "D_trainer = C.Trainer(D_real, (D_loss, None), D_learner, [D_progress_printer, D_tensorboard_writer])"
   ]
  },
  {
   "cell_type": "markdown",
   "metadata": {},
   "source": [
    "<h2>train conditional DCGAN</h2>"
   ]
  },
  {
   "cell_type": "code",
   "execution_count": 7,
   "metadata": {
    "collapsed": false
   },
   "outputs": [
    {
     "name": "stderr",
     "output_type": "stream",
     "text": [
      "/home/aj/anaconda3/envs/cntk-py35/lib/python3.5/site-packages/cntk/core.py:361: UserWarning: your data is of type \"float64\", but your input variable (uid \"Input3\") expects \"<class 'numpy.float32'>\". Please convert your data beforehand to speed up training.\n",
      "  (sample.dtype, var.uid, str(var.dtype)))\n"
     ]
    },
    {
     "name": "stdout",
     "output_type": "stream",
     "text": [
      "Learning rate per 1 samples: 0.0002\n",
      "Learning rate per 1 samples: 0.0002\n",
      "Finished Epoch[1 of 30]: [D_training] loss = 0.682717 * 51200 8.371s (6116.1 samples/s);\n",
      "Finished Epoch[1 of 30]: [G_training] loss = 2.810508 * 25600 8.372s (3057.9 samples/s);\n",
      "Finished Epoch[2 of 30]: [D_training] loss = 0.756222 * 51200 7.517s (6811.3 samples/s);\n",
      "Finished Epoch[2 of 30]: [G_training] loss = 2.773686 * 25600 7.517s (3405.7 samples/s);\n",
      "Finished Epoch[3 of 30]: [D_training] loss = 0.681831 * 51200 7.512s (6815.3 samples/s);\n",
      "Finished Epoch[3 of 30]: [G_training] loss = 2.699018 * 25600 7.512s (3407.7 samples/s);\n",
      "Finished Epoch[4 of 30]: [D_training] loss = 0.662306 * 51200 7.473s (6851.4 samples/s);\n",
      "Finished Epoch[4 of 30]: [G_training] loss = 2.874190 * 25600 7.473s (3425.7 samples/s);\n",
      "Finished Epoch[5 of 30]: [D_training] loss = 0.627350 * 51200 7.503s (6824.2 samples/s);\n",
      "Finished Epoch[5 of 30]: [G_training] loss = 2.983352 * 25600 7.503s (3412.1 samples/s);\n",
      "Finished Epoch[6 of 30]: [D_training] loss = 0.623764 * 51200 7.504s (6823.2 samples/s);\n",
      "Finished Epoch[6 of 30]: [G_training] loss = 3.097039 * 25600 7.504s (3411.6 samples/s);\n",
      "Finished Epoch[7 of 30]: [D_training] loss = 0.630462 * 51200 7.505s (6822.5 samples/s);\n",
      "Finished Epoch[7 of 30]: [G_training] loss = 3.125454 * 25600 7.505s (3411.2 samples/s);\n",
      "Finished Epoch[8 of 30]: [D_training] loss = 0.643468 * 51200 7.472s (6851.9 samples/s);\n",
      "Finished Epoch[8 of 30]: [G_training] loss = 3.136119 * 25600 7.472s (3425.9 samples/s);\n",
      "Finished Epoch[9 of 30]: [D_training] loss = 0.684129 * 51200 7.500s (6826.7 samples/s);\n",
      "Finished Epoch[9 of 30]: [G_training] loss = 3.048051 * 25600 7.500s (3413.3 samples/s);\n",
      "Finished Epoch[10 of 30]: [D_training] loss = 0.701112 * 51200 7.501s (6825.5 samples/s);\n",
      "Finished Epoch[10 of 30]: [G_training] loss = 2.996112 * 25600 7.501s (3412.7 samples/s);\n",
      "Finished Epoch[11 of 30]: [D_training] loss = 0.734280 * 51200 7.500s (6826.2 samples/s);\n",
      "Finished Epoch[11 of 30]: [G_training] loss = 2.937416 * 25600 7.500s (3413.1 samples/s);\n",
      "Finished Epoch[12 of 30]: [D_training] loss = 0.730223 * 51200 7.470s (6854.4 samples/s);\n",
      "Finished Epoch[12 of 30]: [G_training] loss = 2.904194 * 25600 7.470s (3427.2 samples/s);\n",
      "Finished Epoch[13 of 30]: [D_training] loss = 0.737809 * 51200 7.501s (6825.5 samples/s);\n",
      "Finished Epoch[13 of 30]: [G_training] loss = 2.892775 * 25600 7.501s (3412.8 samples/s);\n",
      "Finished Epoch[14 of 30]: [D_training] loss = 0.741639 * 51200 7.501s (6825.6 samples/s);\n",
      "Finished Epoch[14 of 30]: [G_training] loss = 2.854200 * 25600 7.501s (3412.8 samples/s);\n",
      "Finished Epoch[15 of 30]: [D_training] loss = 0.765311 * 51200 7.467s (6856.9 samples/s);\n",
      "Finished Epoch[15 of 30]: [G_training] loss = 2.848305 * 25600 7.467s (3428.4 samples/s);\n",
      "Finished Epoch[16 of 30]: [D_training] loss = 0.776507 * 51200 7.500s (6826.9 samples/s);\n",
      "Finished Epoch[16 of 30]: [G_training] loss = 2.806709 * 25600 7.500s (3413.5 samples/s);\n",
      "Finished Epoch[17 of 30]: [D_training] loss = 0.792416 * 51200 7.499s (6827.8 samples/s);\n",
      "Finished Epoch[17 of 30]: [G_training] loss = 2.742251 * 25600 7.499s (3413.9 samples/s);\n",
      "Finished Epoch[18 of 30]: [D_training] loss = 0.841636 * 51200 7.503s (6823.5 samples/s);\n",
      "Finished Epoch[18 of 30]: [G_training] loss = 2.731426 * 25600 7.503s (3411.7 samples/s);\n",
      "Finished Epoch[19 of 30]: [D_training] loss = 0.864238 * 51200 7.467s (6856.8 samples/s);\n",
      "Finished Epoch[19 of 30]: [G_training] loss = 2.661473 * 25600 7.467s (3428.4 samples/s);\n",
      "Finished Epoch[20 of 30]: [D_training] loss = 0.904774 * 51200 7.502s (6824.5 samples/s);\n",
      "Finished Epoch[20 of 30]: [G_training] loss = 2.612339 * 25600 7.502s (3412.3 samples/s);\n",
      "Finished Epoch[21 of 30]: [D_training] loss = 0.936342 * 51200 7.506s (6821.6 samples/s);\n",
      "Finished Epoch[21 of 30]: [G_training] loss = 2.548476 * 25600 7.506s (3410.7 samples/s);\n",
      "Finished Epoch[22 of 30]: [D_training] loss = 0.959122 * 51200 7.515s (6813.3 samples/s);\n",
      "Finished Epoch[22 of 30]: [G_training] loss = 2.496412 * 25600 7.515s (3406.7 samples/s);\n",
      "Finished Epoch[23 of 30]: [D_training] loss = 0.998110 * 51200 7.509s (6818.3 samples/s);\n",
      "Finished Epoch[23 of 30]: [G_training] loss = 2.470499 * 25600 7.509s (3409.1 samples/s);\n",
      "Finished Epoch[24 of 30]: [D_training] loss = 1.005829 * 51200 7.534s (6795.9 samples/s);\n",
      "Finished Epoch[24 of 30]: [G_training] loss = 2.416253 * 25600 7.534s (3398.0 samples/s);\n",
      "Finished Epoch[25 of 30]: [D_training] loss = 1.023046 * 51200 7.532s (6797.4 samples/s);\n",
      "Finished Epoch[25 of 30]: [G_training] loss = 2.414770 * 25600 7.532s (3398.7 samples/s);\n",
      "Finished Epoch[26 of 30]: [D_training] loss = 1.037944 * 51200 7.500s (6826.5 samples/s);\n",
      "Finished Epoch[26 of 30]: [G_training] loss = 2.323481 * 25600 7.500s (3413.3 samples/s);\n",
      "Finished Epoch[27 of 30]: [D_training] loss = 1.043260 * 51200 7.538s (6791.9 samples/s);\n",
      "Finished Epoch[27 of 30]: [G_training] loss = 2.320578 * 25600 7.538s (3395.9 samples/s);\n",
      "Finished Epoch[28 of 30]: [D_training] loss = 1.037610 * 51200 7.534s (6795.9 samples/s);\n",
      "Finished Epoch[28 of 30]: [G_training] loss = 2.320159 * 25600 7.534s (3398.0 samples/s);\n",
      "Finished Epoch[29 of 30]: [D_training] loss = 1.051200 * 51200 7.537s (6792.9 samples/s);\n",
      "Finished Epoch[29 of 30]: [G_training] loss = 2.289761 * 25600 7.537s (3396.5 samples/s);\n",
      "Finished Epoch[30 of 30]: [D_training] loss = 1.058925 * 51200 7.503s (6824.2 samples/s);\n",
      "Finished Epoch[30 of 30]: [G_training] loss = 2.293206 * 25600 7.503s (3412.1 samples/s);\n",
      "training conditional DCGAN takes 225.98364925384521(secs) long\n"
     ]
    }
   ],
   "source": [
    "# create loop\n",
    "t0 = time.time()\n",
    "D_DS = create_mb_for_D(256)\n",
    "G_DS = create_mb_for_G(256)\n",
    "for epoch in range(max_epoch):\n",
    "    # train D for k steps\n",
    "    k = 2\n",
    "    for i in range(k):\n",
    "        D_mb = next(D_DS)\n",
    "        input_map = {D_feature_image: D_mb[0], D_feature_code: D_mb[1], G_feature_z: D_mb[2], G_feature_code: D_mb[3]}\n",
    "        D_trainer.train_minibatch(input_map)\n",
    "        D_progress_printer.update_with_trainer(D_trainer)\n",
    "        \n",
    "    # train G\n",
    "    k = 1\n",
    "    G_mb = next(G_DS)\n",
    "    input_map = {G_feature_z: G_mb[0], G_feature_code: G_mb[1]}\n",
    "    for i in range(k):\n",
    "        G_trainer.train_minibatch(input_map)\n",
    "        G_progress_printer.update_with_trainer(G_trainer)\n",
    "\n",
    "    if epoch % 100 == 99:\n",
    "        D_progress_printer.epoch_summary()\n",
    "        G_progress_printer.epoch_summary()\n",
    "        visualize(epoch)\n",
    "print('training conditional DCGAN takes {}(secs) long'.format(time.time() - t0))"
   ]
  },
  {
   "cell_type": "markdown",
   "metadata": {
    "collapsed": true
   },
   "source": [
    "<h2>visualize generator</h2>"
   ]
  },
  {
   "cell_type": "code",
   "execution_count": 8,
   "metadata": {
    "collapsed": false
   },
   "outputs": [
    {
     "name": "stderr",
     "output_type": "stream",
     "text": [
      "/home/aj/anaconda3/envs/cntk-py35/lib/python3.5/site-packages/cntk/core.py:361: UserWarning: your data is of type \"float64\", but your input variable (uid \"Input3\") expects \"<class 'numpy.float32'>\". Please convert your data beforehand to speed up training.\n",
      "  (sample.dtype, var.uid, str(var.dtype)))\n"
     ]
    },
    {
     "data": {
      "image/png": "[encoded data removed]",
      "text/plain": [
       "<matplotlib.figure.Figure at 0x7f7e4c0a1da0>"
      ]
     },
     "metadata": {},
     "output_type": "display_data"
    }
   ],
   "source": [
    "%matplotlib inline\n",
    "import matplotlib.pyplot as plt\n",
    "\n",
    "# sampling from generator\n",
    "sample_codes = enc.transform(np.arange(10).repeat(10)[:, None])\n",
    "sample_z = np.random.normal(0, .33, (100, 100))\n",
    "fake_images = G_net.eval({G_feature_z: sample_z, G_feature_code: sample_codes}, outputs=G_net.G_out)\n",
    "\n",
    "\n",
    "def plot_images(images, subplot_shape):\n",
    "    '''\n",
    "    depict images in a single plot\n",
    "\n",
    "    Args:\n",
    "        images: np.array of images\n",
    "        subplot_shape: layout of subplot\n",
    "    '''\n",
    "    plt.style.use('ggplot')\n",
    "    fig, axes = plt.subplots(*subplot_shape)\n",
    "    for image, ax in zip(images, axes.flatten()):\n",
    "        ax.imshow(image.reshape(img_w, img_h), vmin=-1., vmax=1., cmap='gray')\n",
    "        ax.axis('off')\n",
    "    plt.show()\n",
    "\n",
    "\n",
    "plot_images(fake_images, [10, 10])"
   ]
  },
  {
   "cell_type": "code",
   "execution_count": null,
   "metadata": {
    "collapsed": true
   },
   "outputs": [],
   "source": []
  }
 ],
 "metadata": {
  "anaconda-cloud": {},
  "kernelspec": {
   "display_name": "Python [cntk-py35]",
   "language": "python",
   "name": "Python [cntk-py35]"
  },
  "language_info": {
   "codemirror_mode": {
    "name": "ipython",
    "version": 3
   },
   "file_extension": ".py",
   "mimetype": "text/x-python",
   "name": "python",
   "nbconvert_exporter": "python",
   "pygments_lexer": "ipython3",
   "version": "3.5.2"
  }
 },
 "nbformat": 4,
 "nbformat_minor": 0
}
